{
 "cells": [
  {
   "cell_type": "code",
   "execution_count": 2,
   "metadata": {},
   "outputs": [],
   "source": [
    "from langchain_community.graphs import OntotextGraphDBGraph\n",
    "\n",
    "# feeding the schema using a user construct query\n",
    "\n",
    "graph = OntotextGraphDBGraph(\n",
    "    query_endpoint=\"http://localhost:7200/repositories/papers\",\n",
    "    query_ontology=\"CONSTRUCT {?s ?p ?o} FROM <http://cinecakg.com/graph> WHERE {?s ?p ?o}\",\n",
    ")"
   ]
  },
  {
   "cell_type": "code",
   "execution_count": 4,
   "metadata": {},
   "outputs": [
    {
     "data": {
      "text/plain": [
       "'@prefix dcterms: <http://purl.org/dc/terms/> .\\n@prefix foaf: <http://xmlns.com/foaf/0.1/> .\\n@prefix rdfs: <http://www.w3.org/2000/01/rdf-schema#> .\\n\\n<https://cineca.it/graph#paper1> a <http://schema.org/ScholarlyArticle> ;\\n    rdfs:label \"Attention Is All You Need\" ;\\n    dcterms:creator <https://cineca.it/graph#author1>,\\n        <https://cineca.it/graph#author2>,\\n        <https://cineca.it/graph#author3>,\\n        <https://cineca.it/graph#author4>,\\n        <https://cineca.it/graph#author5>,\\n        <https://cineca.it/graph#author6>,\\n        <https://cineca.it/graph#author7>,\\n        <https://cineca.it/graph#author8> .\\n\\n<https://cineca.it/graph#paper2> a <http://schema.org/ScholarlyArticle> ;\\n    rdfs:label \"The Efficiency Misnomer\" ;\\n    dcterms:creator <https://cineca.it/graph#author10>,\\n        <https://cineca.it/graph#author11>,\\n        <https://cineca.it/graph#author12>,\\n        <https://cineca.it/graph#author13>,\\n        <https://cineca.it/graph#author9> .\\n\\n<https://cineca.it/graph#author1> a <http://schema.org/Person> ;\\n    rdfs:label \"Ashish Vaswani\" ;\\n    foaf:memberOf <https://cineca.it/graph#organization1> .\\n\\n<https://cineca.it/graph#author10> a <http://schema.org/Person> ;\\n    rdfs:label \"Anurag Arnab\" ;\\n    foaf:memberOf <https://cineca.it/graph#organization2> .\\n\\n<https://cineca.it/graph#author11> a <http://schema.org/Person> ;\\n    rdfs:label \"Lucas Beyer\" ;\\n    foaf:memberOf <https://cineca.it/graph#organization2> .\\n\\n<https://cineca.it/graph#author12> a <http://schema.org/Person> ;\\n    rdfs:label \"Ashish Vaswani\" ;\\n    foaf:memberOf <https://cineca.it/graph#organization2> .\\n\\n<https://cineca.it/graph#author13> a <http://schema.org/Person> ;\\n    rdfs:label \"Yi Tay\" ;\\n    foaf:memberOf <https://cineca.it/graph#organization2> .\\n\\n<https://cineca.it/graph#author2> a <http://schema.org/Person> ;\\n    rdfs:label \"Noam Shazeer\" ;\\n    foaf:memberOf <https://cineca.it/graph#organization1> .\\n\\n<https://cineca.it/graph#author3> a <http://schema.org/Person> ;\\n    rdfs:label \"Niki Parmar\" ;\\n    foaf:memberOf <https://cineca.it/graph#organization2> .\\n\\n<https://cineca.it/graph#author4> a <http://schema.org/Person> ;\\n    rdfs:label \"Jakob Uszkoreit\" ;\\n    foaf:memberOf <https://cineca.it/graph#organization2> .\\n\\n<https://cineca.it/graph#author5> a <http://schema.org/Person> ;\\n    rdfs:label \"Llion Jones\" ;\\n    foaf:memberOf <https://cineca.it/graph#organization2> .\\n\\n<https://cineca.it/graph#author6> a <http://schema.org/Person> ;\\n    rdfs:label \"Aidan N. Gomez\" ;\\n    foaf:memberOf <https://cineca.it/graph#organization3> .\\n\\n<https://cineca.it/graph#author7> a <http://schema.org/Person> ;\\n    rdfs:label \"Łukasz Kaiser\" ;\\n    foaf:memberOf <https://cineca.it/graph#organization1> .\\n\\n<https://cineca.it/graph#author8> a <http://schema.org/Person> ;\\n    rdfs:label \"Illia Polosukhin\" ;\\n    foaf:memberOf <https://cineca.it/graph#organization4> .\\n\\n<https://cineca.it/graph#author9> a <http://schema.org/Person> ;\\n    rdfs:label \"Mostafa Dehghani\" ;\\n    foaf:memberOf <https://cineca.it/graph#organization2> .\\n\\n<https://cineca.it/graph#organization3> a <http://schema.org/Organization> ;\\n    rdfs:label \"University of Toronto\" .\\n\\n<https://cineca.it/graph#organization4> a <http://schema.org/Organization> ;\\n    rdfs:label \"N/A\" .\\n\\n<https://cineca.it/graph#organization1> a <http://schema.org/Organization> ;\\n    rdfs:label \"Google Brain\" .\\n\\n<https://cineca.it/graph#organization2> a <http://schema.org/Organization> ;\\n    rdfs:label \"Google Research\" .\\n\\n'"
      ]
     },
     "execution_count": 4,
     "metadata": {},
     "output_type": "execute_result"
    }
   ],
   "source": [
    "graph.get_schema"
   ]
  },
  {
   "cell_type": "code",
   "execution_count": 5,
   "metadata": {},
   "outputs": [],
   "source": [
    "import os\n",
    "\n",
    "from langchain.chains import OntotextGraphDBQAChain\n",
    "from langchain_openai import ChatOpenAI\n",
    "\n",
    "# We'll be using an OpenAI model which requires an OpenAI API Key.\n",
    "# However, other models are available as well:\n",
    "# https://python.langchain.com/docs/integrations/chat/\n",
    "\n",
    "# Set the environment variable `OPENAI_API_KEY` to your OpenAI API key\n",
    "# os.environ[\"OPENAI_API_KEY\"] = \"sk-***\"\n",
    "\n",
    "# Any available OpenAI model can be used here.\n",
    "# We use 'gpt-4-1106-preview' because of the bigger context window.\n",
    "# The 'gpt-4-1106-preview' model_name will deprecate in the future and will change to 'gpt-4-turbo' or similar,\n",
    "# so be sure to consult with the OpenAI API https://platform.openai.com/docs/models for the correct naming.\n",
    "\n",
    "chain = OntotextGraphDBQAChain.from_llm(\n",
    "    ChatOpenAI(temperature=0, model_name=\"gpt-4-1106-preview\"),\n",
    "    graph=graph,\n",
    "    verbose=True,\n",
    ")"
   ]
  },
  {
   "cell_type": "code",
   "execution_count": 6,
   "metadata": {},
   "outputs": [
    {
     "name": "stdout",
     "output_type": "stream",
     "text": [
      "\n",
      "\n",
      "\u001b[1m> Entering new OntotextGraphDBQAChain chain...\u001b[0m\n",
      "Generated SPARQL:\n",
      "\u001b[32;1m\u001b[1;3mPREFIX dcterms: <http://purl.org/dc/terms/>\n",
      "PREFIX rdfs: <http://www.w3.org/2000/01/rdf-schema#>\n",
      "\n",
      "SELECT ?authorLabel\n",
      "WHERE {\n",
      "  ?paper rdfs:label \"Attention Is All You Need\" .\n",
      "  ?paper dcterms:creator ?author .\n",
      "  ?author rdfs:label ?authorLabel .\n",
      "}\u001b[0m\n",
      "\n",
      "\u001b[1m> Finished chain.\u001b[0m\n"
     ]
    },
    {
     "data": {
      "text/plain": [
       "\"The paper 'Attention is all you need' was authored by Ashish Vaswani, Noam Shazeer, Niki Parmar, Jakob Uszkoreit, Llion Jones, Aidan N. Gomez, Łukasz Kaiser, and Illia Polosukhin.\""
      ]
     },
     "execution_count": 6,
     "metadata": {},
     "output_type": "execute_result"
    }
   ],
   "source": [
    "chain.invoke({chain.input_key: \"Who wrote the paper 'Attention is all you need'?\"})[chain.output_key]"
   ]
  },
  {
   "cell_type": "code",
   "execution_count": 7,
   "metadata": {},
   "outputs": [
    {
     "name": "stdout",
     "output_type": "stream",
     "text": [
      "\n",
      "\n",
      "\u001b[1m> Entering new OntotextGraphDBQAChain chain...\u001b[0m\n",
      "Generated SPARQL:\n",
      "\u001b[32;1m\u001b[1;3mPREFIX dcterms: <http://purl.org/dc/terms/>\n",
      "PREFIX rdfs: <http://www.w3.org/2000/01/rdf-schema#>\n",
      "PREFIX foaf: <http://xmlns.com/foaf/0.1/>\n",
      "PREFIX schema: <http://schema.org/>\n",
      "\n",
      "SELECT DISTINCT ?researcherName\n",
      "WHERE {\n",
      "  ?paper1 a schema:ScholarlyArticle ;\n",
      "          rdfs:label \"Attention Is All You Need\" ;\n",
      "          dcterms:creator ?author1 .\n",
      "  ?paper2 a schema:ScholarlyArticle ;\n",
      "          rdfs:label \"The Efficiency Misnomer\" ;\n",
      "          dcterms:creator ?author2 .\n",
      "  ?author1 rdfs:label ?researcherName ;\n",
      "           foaf:memberOf <https://cineca.it/graph#organization2> .\n",
      "  ?author2 rdfs:label ?researcherName ;\n",
      "           foaf:memberOf <https://cineca.it/graph#organization2> .\n",
      "}\u001b[0m\n",
      "\n",
      "\u001b[1m> Finished chain.\u001b[0m\n"
     ]
    },
    {
     "data": {
      "text/plain": [
       "\"Based on the information provided, I do not have the data to identify which researchers from Google Research authored both 'The efficiency misnomer' and 'Attention is all you need'. If you can provide the results of a relevant SPARQL query or any additional details, I would be happy to assist you further.\""
      ]
     },
     "execution_count": 7,
     "metadata": {},
     "output_type": "execute_result"
    }
   ],
   "source": [
    "chain.invoke({chain.input_key: \"Which researchers from Google Research authored both 'The efficiency misnomer' and 'Attention is all you need'?\"})[chain.output_key]"
   ]
  },
  {
   "cell_type": "code",
   "execution_count": 8,
   "metadata": {},
   "outputs": [
    {
     "name": "stdout",
     "output_type": "stream",
     "text": [
      "\n",
      "\n",
      "\u001b[1m> Entering new OntotextGraphDBQAChain chain...\u001b[0m\n",
      "Generated SPARQL:\n",
      "\u001b[32;1m\u001b[1;3mPREFIX dcterms: <http://purl.org/dc/terms/>\n",
      "PREFIX rdfs: <http://www.w3.org/2000/01/rdf-schema#>\n",
      "PREFIX schema: <http://schema.org/>\n",
      "\n",
      "SELECT ?researcher1 ?researcher2 ?paperLabel\n",
      "WHERE {\n",
      "  ?paper a schema:ScholarlyArticle ;\n",
      "         rdfs:label ?paperLabel ;\n",
      "         dcterms:creator ?author1, ?author2 .\n",
      "  ?author1 rdfs:label ?researcher1 .\n",
      "  ?author2 rdfs:label ?researcher2 .\n",
      "  FILTER (?author1 != ?author2)\n",
      "}\u001b[0m\n",
      "\n",
      "\u001b[1m> Finished chain.\u001b[0m\n"
     ]
    },
    {
     "data": {
      "text/plain": [
       "'The researchers who collaborated on academic papers are as follows:\\n\\n- Ashish Vaswani worked with Noam Shazeer, Niki Parmar, Jakob Uszkoreit, Llion Jones, Aidan N. Gomez, Łukasz Kaiser, and Illia Polosukhin on the paper titled \"Attention Is All You Need\".\\n- Noam Shazeer collaborated with Ashish Vaswani, Niki Parmar, Jakob Uszkoreit, Llion Jones, Aidan N. Gomez, Łukasz Kaiser, and Illia Polosukhin on the same paper.\\n- Niki Parmar co-authored with Ashish Vaswani, Noam Shazeer, Jakob Uszkoreit, Llion Jones, Aidan N. Gomez, Łukasz Kaiser, and Illia Polosukhin on \"Attention Is All You Need\".\\n- Jakob Uszkoreit worked alongside Ashish Vaswani, Noam Shazeer, Niki Parmar, Llion Jones, Aidan N. Gomez, Łukasz Kaiser, and Illia Polosukhin on the paper.\\n- Llion Jones collaborated with Ashish Vaswani, Noam Shazeer, Niki Parmar, Jakob Uszkoreit, Aidan N. Gomez, Łukasz Kaiser, and Illia Polosukhin on \"Attention Is All You Need\".\\n- Aidan N. Gomez co-authored with Ashish Vaswani, Noam Shazeer, Niki Parmar, Jakob Uszkoreit, Llion Jones, Łukasz Kaiser, and Illia Polosukhin on the paper.\\n- Łukasz Kaiser worked with Ashish Vaswani, Noam Shazeer, Niki Parmar, Jakob Uszkoreit, Llion Jones, Aidan N. Gomez, and Illia Polosukhin on \"Attention Is All You Need\".\\n- Illia Polosukhin collaborated with Ashish Vaswani, Noam Shazeer, Niki Parmar, Jakob Uszkoreit, Llion Jones, Aidan N. Gomez, and Łukasz Kaiser on the same paper.\\n- Mostafa Dehghani co-authored with Anurag Arnab, Lucas Beyer, Ashish Vaswani, and Yi Tay on the paper titled \"The Efficiency Misnomer\".\\n- Anurag Arnab worked with Mostafa Dehghani, Lucas Beyer, Ashish Vaswani, and Yi Tay on \"The Efficiency Misnomer\".\\n- Lucas Beyer collaborated with Mostafa Dehghani, Anurag Arnab, Ashish Vaswani, and Yi Tay on the paper.\\n- Yi Tay co-authored with Mostafa Dehghani, Anurag Arnab, Lucas Beyer, and Ashish Vaswani on \"The Efficiency Misnomer\".\\n\\nThese collaborations indicate a network of researchers who have contributed to the field of study through their joint efforts on these academic papers.'"
      ]
     },
     "execution_count": 8,
     "metadata": {},
     "output_type": "execute_result"
    }
   ],
   "source": [
    "chain.invoke({chain.input_key: \"Which researchers worked together on academic papers?\"})[chain.output_key]"
   ]
  },
  {
   "cell_type": "code",
   "execution_count": 9,
   "metadata": {},
   "outputs": [
    {
     "name": "stdout",
     "output_type": "stream",
     "text": [
      "\n",
      "\n",
      "\u001b[1m> Entering new OntotextGraphDBQAChain chain...\u001b[0m\n",
      "Generated SPARQL:\n",
      "\u001b[32;1m\u001b[1;3mPREFIX foaf: <http://xmlns.com/foaf/0.1/>\n",
      "PREFIX rdfs: <http://www.w3.org/2000/01/rdf-schema#>\n",
      "PREFIX schema: <http://schema.org/>\n",
      "\n",
      "SELECT ?person ?personLabel\n",
      "WHERE {\n",
      "  ?person a schema:Person ;\n",
      "          rdfs:label ?personLabel ;\n",
      "          foaf:memberOf <https://cineca.it/graph#organization2> .\n",
      "}\u001b[0m\n",
      "\n",
      "\u001b[1m> Finished chain.\u001b[0m\n"
     ]
    },
    {
     "data": {
      "text/plain": [
       "'Based on the information provided, I cannot confirm whether any of the individuals listed are associated with Google Research, as the data does not include any details about their affiliations.'"
      ]
     },
     "execution_count": 9,
     "metadata": {},
     "output_type": "execute_result"
    }
   ],
   "source": [
    "chain.invoke({chain.input_key: \"List all people from Google Research\"})[chain.output_key]"
   ]
  },
  {
   "cell_type": "code",
   "execution_count": 10,
   "metadata": {},
   "outputs": [
    {
     "name": "stdout",
     "output_type": "stream",
     "text": [
      "\n",
      "\n",
      "\u001b[1m> Entering new OntotextGraphDBQAChain chain...\u001b[0m\n",
      "Generated SPARQL:\n",
      "\u001b[32;1m\u001b[1;3mPREFIX dcterms: <http://purl.org/dc/terms/>\n",
      "PREFIX foaf: <http://xmlns.com/foaf/0.1/>\n",
      "PREFIX rdfs: <http://www.w3.org/2000/01/rdf-schema#>\n",
      "PREFIX schema: <http://schema.org/>\n",
      "\n",
      "SELECT DISTINCT ?researcherName\n",
      "WHERE {\n",
      "  ?paper a schema:ScholarlyArticle ;\n",
      "         rdfs:label \"Attention Is All You Need\" ;\n",
      "         dcterms:creator ?author .\n",
      "  ?author a schema:Person ;\n",
      "          rdfs:label ?researcherName ;\n",
      "          foaf:memberOf ?organization .\n",
      "  ?organization a schema:Organization ;\n",
      "                rdfs:label ?organizationName .\n",
      "  FILTER (?organizationName IN (\"Google Research\", \"Google Brain\"))\n",
      "}\u001b[0m\n",
      "\n",
      "\u001b[1m> Finished chain.\u001b[0m\n"
     ]
    },
    {
     "data": {
      "text/plain": [
       "\"The researchers from Google Research and Google Brain who collaborated on the paper 'Attention is All You Need' include Niki Parmar, Jakob Uszkoreit, Llion Jones, Ashish Vaswani, Noam Shazeer, and Łukasz Kaiser.\""
      ]
     },
     "execution_count": 10,
     "metadata": {},
     "output_type": "execute_result"
    }
   ],
   "source": [
    "chain.invoke({chain.input_key: \"Which researchers from Google Research and from Google Brain collaborated on 'Attention is all you need'?\"})[chain.output_key]"
   ]
  },
  {
   "cell_type": "markdown",
   "metadata": {},
   "source": [
    "quali sono i ricercatori dell uni bologna che hanno lavorato con ricercatori del canada"
   ]
  },
  {
   "cell_type": "code",
   "execution_count": 12,
   "metadata": {},
   "outputs": [
    {
     "name": "stdout",
     "output_type": "stream",
     "text": [
      "\n",
      "\n",
      "\u001b[1m> Entering new OntotextGraphDBQAChain chain...\u001b[0m\n",
      "Generated SPARQL:\n",
      "\u001b[32;1m\u001b[1;3mPREFIX dcterms: <http://purl.org/dc/terms/>\n",
      "PREFIX foaf: <http://xmlns.com/foaf/0.1/>\n",
      "PREFIX rdfs: <http://www.w3.org/2000/01/rdf-schema#>\n",
      "PREFIX schema: <http://schema.org/>\n",
      "\n",
      "SELECT DISTINCT ?researcherName\n",
      "WHERE {\n",
      "  ?paper a schema:ScholarlyArticle ;\n",
      "         dcterms:creator ?researcher .\n",
      "  ?researcher a schema:Person ;\n",
      "              rdfs:label ?researcherName ;\n",
      "              foaf:memberOf ?organization .\n",
      "  ?organization a schema:Organization ;\n",
      "                rdfs:label ?organizationName .\n",
      "  FILTER (?organizationName IN (\"Google Research\", \"Google Brain\"))\n",
      "}\u001b[0m\n",
      "\n",
      "\u001b[1m> Finished chain.\u001b[0m\n"
     ]
    },
    {
     "data": {
      "text/plain": [
       "\"Based on the information provided, I can confirm that the following researchers have collaborated on papers: Niki Parmar, Jakob Uszkoreit, Llion Jones, Mostafa Dehghani, Anurag Arnab, Lucas Beyer, Ashish Vaswani, Yi Tay, Noam Shazeer, and Łukasz Kaiser. However, the information does not specify which of these individuals are from Google Research or Google Brain, nor does it detail the specific papers they collaborated on. If you need information about their affiliations or the papers they worked on, I'm unable to provide that with the current data available.\""
      ]
     },
     "execution_count": 12,
     "metadata": {},
     "output_type": "execute_result"
    }
   ],
   "source": [
    "chain.invoke({chain.input_key: \"Which researchers from Google Research and from Google Brain collaborated on any papers?\"})[chain.output_key]"
   ]
  },
  {
   "cell_type": "code",
   "execution_count": 14,
   "metadata": {},
   "outputs": [
    {
     "name": "stdout",
     "output_type": "stream",
     "text": [
      "\n",
      "\n",
      "\u001b[1m> Entering new OntotextGraphDBQAChain chain...\u001b[0m\n",
      "Generated SPARQL:\n",
      "\u001b[32;1m\u001b[1;3mPREFIX dcterms: <http://purl.org/dc/terms/>\n",
      "PREFIX schema: <http://schema.org/>\n",
      "\n",
      "SELECT ?author ?authorLabel (COUNT(?paper) AS ?papersCount)\n",
      "WHERE {\n",
      "  ?paper a schema:ScholarlyArticle ;\n",
      "         dcterms:creator ?author .\n",
      "  ?author a schema:Person ;\n",
      "          rdfs:label ?authorLabel .\n",
      "}\n",
      "GROUP BY ?author ?authorLabel\n",
      "HAVING (COUNT(?paper) > 1)\u001b[0m\n",
      "\n",
      "\u001b[1m> Finished chain.\u001b[0m\n"
     ]
    },
    {
     "data": {
      "text/plain": [
       "'Based on the information provided, I do not have any data regarding researchers or their publications. Therefore, I cannot confirm whether there are any researchers who have worked on more than one paper. If you have access to specific data or a database, I could assist you in formulating a query to find out.'"
      ]
     },
     "execution_count": 14,
     "metadata": {},
     "output_type": "execute_result"
    }
   ],
   "source": [
    "chain.invoke({chain.input_key: \"Are there any researchers who worked on more than 1 paper?\"})[chain.output_key]"
   ]
  },
  {
   "cell_type": "code",
   "execution_count": 15,
   "metadata": {},
   "outputs": [
    {
     "name": "stdout",
     "output_type": "stream",
     "text": [
      "\n",
      "\n",
      "\u001b[1m> Entering new OntotextGraphDBQAChain chain...\u001b[0m\n",
      "Generated SPARQL:\n",
      "\u001b[32;1m\u001b[1;3mPREFIX dcterms: <http://purl.org/dc/terms/>\n",
      "PREFIX schema: <http://schema.org/>\n",
      "\n",
      "SELECT (COUNT(DISTINCT ?author) AS ?numberOfAuthors)\n",
      "WHERE {\n",
      "  ?paper a schema:ScholarlyArticle ;\n",
      "         dcterms:creator ?author .\n",
      "}\u001b[0m\n",
      "\n",
      "\u001b[1m> Finished chain.\u001b[0m\n"
     ]
    },
    {
     "data": {
      "text/plain": [
       "'Based on the data retrieved from the SPARQL query, there are 13 authors of papers.'"
      ]
     },
     "execution_count": 15,
     "metadata": {},
     "output_type": "execute_result"
    }
   ],
   "source": [
    "chain.invoke({chain.input_key: \"How many authors of papers are there?\"})[chain.output_key]"
   ]
  }
 ],
 "metadata": {
  "kernelspec": {
   "display_name": ".venv",
   "language": "python",
   "name": "python3"
  },
  "language_info": {
   "codemirror_mode": {
    "name": "ipython",
    "version": 3
   },
   "file_extension": ".py",
   "mimetype": "text/x-python",
   "name": "python",
   "nbconvert_exporter": "python",
   "pygments_lexer": "ipython3",
   "version": "3.11.0"
  }
 },
 "nbformat": 4,
 "nbformat_minor": 2
}
