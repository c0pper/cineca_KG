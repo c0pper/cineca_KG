{
 "cells": [
  {
   "cell_type": "code",
   "execution_count": 8,
   "metadata": {},
   "outputs": [],
   "source": [
    "from dotenv import load_dotenv\n",
    "from langchain_community.graphs import Neo4jGraph\n",
    "from langchain.chains import GraphCypherQAChain\n",
    "from langchain_openai import ChatOpenAI\n",
    "\n",
    "load_dotenv()\n",
    "graph = Neo4jGraph()\n",
    "\n",
    "chain = GraphCypherQAChain.from_llm(\n",
    "    ChatOpenAI(temperature=0, model_name=\"gpt-4-0125-preview\"), graph=graph, verbose=True\n",
    ")"
   ]
  },
  {
   "cell_type": "code",
   "execution_count": 9,
   "metadata": {},
   "outputs": [
    {
     "name": "stdout",
     "output_type": "stream",
     "text": [
      "\n",
      "\n",
      "\u001b[1m> Entering new GraphCypherQAChain chain...\u001b[0m\n",
      "Generated Cypher:\n",
      "\u001b[32;1m\u001b[1;3mcypher\n",
      "MATCH (p:Person)-[:WORKS_FOR]->(o:Organisation {id: \"Google Research\"}), \n",
      "      (p)-[:WORKS_FOR]->(o2:Organisation {id: \"Google Brain\"})\n",
      "RETURN DISTINCT p.id\n",
      "\u001b[0m\n",
      "Full Context:\n",
      "\u001b[32;1m\u001b[1;3m[{'p.id': 'Jakob Uszkoreit'}, {'p.id': 'Llion Jones'}, {'p.id': 'Niki Parmar'}, {'p.id': 'Ashish Vaswani'}]\u001b[0m\n",
      "\n",
      "\u001b[1m> Finished chain.\u001b[0m\n"
     ]
    },
    {
     "data": {
      "text/plain": [
       "'Jakob Uszkoreit, Llion Jones, Niki Parmar, and Ashish Vaswani work both for Google Research and Google Brain.'"
      ]
     },
     "execution_count": 9,
     "metadata": {},
     "output_type": "execute_result"
    }
   ],
   "source": [
    "chain.run(\"Which authors work both for Google Research and Google Brain?\")"
   ]
  },
  {
   "cell_type": "code",
   "execution_count": 10,
   "metadata": {},
   "outputs": [
    {
     "name": "stdout",
     "output_type": "stream",
     "text": [
      "\n",
      "\n",
      "\u001b[1m> Entering new GraphCypherQAChain chain...\u001b[0m\n",
      "Generated Cypher:\n",
      "\u001b[32;1m\u001b[1;3mcypher\n",
      "MATCH (p1:Person)-[:WORKS_FOR]->(o:Organisation {id: \"Deepmind\"}),\n",
      "      (p1)-[:AUTHOR_OF]->(paper:Paper)<-[:AUTHOR_OF]-(p2:Person),\n",
      "      (p2)-[:WORKS_FOR]->(o2:Organisation {id: \"Google Brain\"})\n",
      "RETURN p1.id AS DeepmindResearcher, p2.id AS GoogleBrainResearcher, paper.id AS PaperID\n",
      "\u001b[0m\n",
      "Full Context:\n",
      "\u001b[32;1m\u001b[1;3m[{'DeepmindResearcher': 'Nal Kalchbrenner', 'GoogleBrainResearcher': 'Stephan Gouws', 'PaperID': 'Tensor2Tensor For Neural Machine Translation'}, {'DeepmindResearcher': 'Nal Kalchbrenner', 'GoogleBrainResearcher': 'Jakob Uszkoreit', 'PaperID': 'Tensor2Tensor For Neural Machine Translation'}, {'DeepmindResearcher': 'Nal Kalchbrenner', 'GoogleBrainResearcher': 'Ryan Sepassi', 'PaperID': 'Tensor2Tensor For Neural Machine Translation'}, {'DeepmindResearcher': 'Nal Kalchbrenner', 'GoogleBrainResearcher': 'Samy Bengio', 'PaperID': 'Tensor2Tensor For Neural Machine Translation'}, {'DeepmindResearcher': 'Nal Kalchbrenner', 'GoogleBrainResearcher': 'Llion Jones', 'PaperID': 'Tensor2Tensor For Neural Machine Translation'}, {'DeepmindResearcher': 'Nal Kalchbrenner', 'GoogleBrainResearcher': 'Francois Chollet', 'PaperID': 'Tensor2Tensor For Neural Machine Translation'}, {'DeepmindResearcher': 'Nal Kalchbrenner', 'GoogleBrainResearcher': 'Niki Parmar', 'PaperID': 'Tensor2Tensor For Neural Machine Translation'}, {'DeepmindResearcher': 'Nal Kalchbrenner', 'GoogleBrainResearcher': 'Eugene Brevdo', 'PaperID': 'Tensor2Tensor For Neural Machine Translation'}, {'DeepmindResearcher': 'Nal Kalchbrenner', 'GoogleBrainResearcher': 'Aidan N. Gomez', 'PaperID': 'Tensor2Tensor For Neural Machine Translation'}, {'DeepmindResearcher': 'Nal Kalchbrenner', 'GoogleBrainResearcher': 'Łukasz Kaiser', 'PaperID': 'Tensor2Tensor For Neural Machine Translation'}]\u001b[0m\n",
      "\n",
      "\u001b[1m> Finished chain.\u001b[0m\n"
     ]
    },
    {
     "data": {
      "text/plain": [
       "'Nal Kalchbrenner from Deepmind worked together with researchers affiliated with Google Brain, including Stephan Gouws, Jakob Uszkoreit, Ryan Sepassi, Samy Bengio, Llion Jones, Francois Chollet, Niki Parmar, Eugene Brevdo, Aidan N. Gomez, and Łukasz Kaiser, on the paper \"Tensor2Tensor For Neural Machine Translation\".'"
      ]
     },
     "execution_count": 10,
     "metadata": {},
     "output_type": "execute_result"
    }
   ],
   "source": [
    "chain.run(\"Which researchers from Deepmind worked together with researchers affiliated with Google Brain?\")"
   ]
  }
 ],
 "metadata": {
  "kernelspec": {
   "display_name": ".venv",
   "language": "python",
   "name": "python3"
  },
  "language_info": {
   "codemirror_mode": {
    "name": "ipython",
    "version": 3
   },
   "file_extension": ".py",
   "mimetype": "text/x-python",
   "name": "python",
   "nbconvert_exporter": "python",
   "pygments_lexer": "ipython3",
   "version": "3.11.0"
  }
 },
 "nbformat": 4,
 "nbformat_minor": 2
}
